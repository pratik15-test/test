{
 "cells": [
  {
   "cell_type": "code",
   "execution_count": 5,
   "id": "biological-participant",
   "metadata": {},
   "outputs": [
    {
     "name": "stdout",
     "output_type": "stream",
     "text": [
      "<class 'set'>\n"
     ]
    }
   ],
   "source": [
    "#set can be of any datatype\n",
    "set1 = {'a' , 'c' , 'b'}\n",
    "set2 = {'1' , '2' , '3'}\n",
    "set3 = {True , False , True }\n",
    "print(type(set1))"
   ]
  },
  {
   "cell_type": "code",
   "execution_count": 7,
   "id": "available-bahamas",
   "metadata": {},
   "outputs": [
    {
     "name": "stdout",
     "output_type": "stream",
     "text": [
      "('hgf', 'jhg')\n"
     ]
    }
   ],
   "source": [
    "set = (('hgf', 'jhg'))\n",
    "print(set)"
   ]
  },
  {
   "cell_type": "code",
   "execution_count": 9,
   "id": "czech-trout",
   "metadata": {},
   "outputs": [
    {
     "name": "stdout",
     "output_type": "stream",
     "text": [
      "{'b', 'c', '1', '2', 'a', '3'}\n"
     ]
    }
   ],
   "source": [
    "#update a set from previous set\n",
    "set2.update(set1)\n",
    "print(set2)"
   ]
  },
  {
   "cell_type": "code",
   "execution_count": 10,
   "id": "previous-banks",
   "metadata": {},
   "outputs": [],
   "source": [
    "thisset = {'cat' , 'dog' , 'mouse'}\n",
    "thiset1 = ['orange' , 'mango']\n",
    "thisset.update(thiset1)"
   ]
  },
  {
   "cell_type": "code",
   "execution_count": 12,
   "id": "analyzed-sherman",
   "metadata": {},
   "outputs": [
    {
     "data": {
      "text/plain": [
       "{'cat', 'dog', 'mango', 'mouse', 'orange'}"
      ]
     },
     "execution_count": 12,
     "metadata": {},
     "output_type": "execute_result"
    }
   ],
   "source": [
    "thisset"
   ]
  },
  {
   "cell_type": "code",
   "execution_count": 13,
   "id": "steady-vision",
   "metadata": {},
   "outputs": [
    {
     "name": "stdout",
     "output_type": "stream",
     "text": [
      "mouse\n"
     ]
    }
   ],
   "source": [
    "x = thisset.pop()\n",
    "print(x)"
   ]
  },
  {
   "cell_type": "code",
   "execution_count": 14,
   "id": "geological-statement",
   "metadata": {},
   "outputs": [],
   "source": [
    "set23 = {'apple' , 'banana' , 'mango'}\n",
    "set23.add('orange')"
   ]
  },
  {
   "cell_type": "code",
   "execution_count": 15,
   "id": "significant-mattress",
   "metadata": {},
   "outputs": [
    {
     "data": {
      "text/plain": [
       "{'apple', 'banana', 'mango', 'orange'}"
      ]
     },
     "execution_count": 15,
     "metadata": {},
     "output_type": "execute_result"
    }
   ],
   "source": [
    "set23"
   ]
  },
  {
   "cell_type": "code",
   "execution_count": 16,
   "id": "mighty-torture",
   "metadata": {},
   "outputs": [
    {
     "name": "stdout",
     "output_type": "stream",
     "text": [
      "{'papaya', 'abc', 'mango', 'asd', 'qwe'}\n"
     ]
    }
   ],
   "source": [
    "thiset1 = {'asd' , 'qwe' , 'abc'}\n",
    "tropical = {'mango' , 'papaya'}\n",
    "thiset1.update(tropical)\n",
    "print(thiset1)"
   ]
  },
  {
   "cell_type": "code",
   "execution_count": 17,
   "id": "exotic-genealogy",
   "metadata": {},
   "outputs": [],
   "source": [
    "#adding iterable (list & set)\n",
    "mylist = ['asd' , 'saw']\n",
    "myset = {'dfg' , 'was'}\n",
    "myset.update(mylist)\n"
   ]
  },
  {
   "cell_type": "code",
   "execution_count": 18,
   "id": "grave-composition",
   "metadata": {},
   "outputs": [
    {
     "data": {
      "text/plain": [
       "{'asd', 'dfg', 'saw', 'was'}"
      ]
     },
     "execution_count": 18,
     "metadata": {},
     "output_type": "execute_result"
    }
   ],
   "source": [
    "myset"
   ]
  },
  {
   "cell_type": "code",
   "execution_count": 20,
   "id": "dependent-bottle",
   "metadata": {},
   "outputs": [
    {
     "data": {
      "text/plain": [
       "{'asd', 'dfg', 'saw', 'was'}"
      ]
     },
     "execution_count": 20,
     "metadata": {},
     "output_type": "execute_result"
    }
   ],
   "source": [
    "myset"
   ]
  },
  {
   "cell_type": "code",
   "execution_count": 23,
   "id": "dedicated-handling",
   "metadata": {},
   "outputs": [
    {
     "name": "stdout",
     "output_type": "stream",
     "text": [
      "{'grapes', 'apple'}\n"
     ]
    }
   ],
   "source": [
    "#delete data item in set\n",
    "thiset = {'apple' , 'cat' , 'grapes'}\n",
    "thiset.remove('cat')\n",
    "print(thiset)"
   ]
  },
  {
   "cell_type": "code",
   "execution_count": 24,
   "id": "partial-position",
   "metadata": {},
   "outputs": [
    {
     "name": "stdout",
     "output_type": "stream",
     "text": [
      "grapes\n"
     ]
    }
   ],
   "source": [
    "#poping single item from a set\n",
    "x = thiset.pop()\n",
    "print(x)"
   ]
  },
  {
   "cell_type": "code",
   "execution_count": 25,
   "id": "cutting-jaguar",
   "metadata": {},
   "outputs": [
    {
     "name": "stdout",
     "output_type": "stream",
     "text": [
      "{'apple'}\n"
     ]
    }
   ],
   "source": [
    "print(thiset)"
   ]
  },
  {
   "cell_type": "code",
   "execution_count": 26,
   "id": "streaming-saudi",
   "metadata": {},
   "outputs": [
    {
     "name": "stdout",
     "output_type": "stream",
     "text": [
      "set()\n"
     ]
    }
   ],
   "source": [
    "#Clear all data from the set\n",
    "thiset.clear()\n",
    "print(thiset)"
   ]
  },
  {
   "cell_type": "code",
   "execution_count": 31,
   "id": "infectious-convenience",
   "metadata": {},
   "outputs": [],
   "source": [
    "#delete the list and error occurs while printing the set\n",
    "myset = {'dd'}\n",
    "del myset"
   ]
  },
  {
   "cell_type": "code",
   "execution_count": 34,
   "id": "cellular-receptor",
   "metadata": {},
   "outputs": [
    {
     "name": "stdout",
     "output_type": "stream",
     "text": [
      "{'lets', 'teach', 'basketball', 'rohit'}\n"
     ]
    }
   ],
   "source": [
    "#Adding two sets using union\n",
    "set4 = {'lets' , 'teach' , 'rohit'}\n",
    "set5 = {'basketball'}\n",
    "set6 = set4.union(set5)\n",
    "print(set6)"
   ]
  },
  {
   "cell_type": "code",
   "execution_count": 36,
   "id": "rough-increase",
   "metadata": {},
   "outputs": [
    {
     "name": "stdout",
     "output_type": "stream",
     "text": [
      "{'is', 'this', 'it'}\n"
     ]
    }
   ],
   "source": [
    "#Adding two sets using update\n",
    "your = {'this' , 'is'}\n",
    "mine = {'it'}\n",
    "your.update(mine)\n",
    "print(your)"
   ]
  },
  {
   "cell_type": "code",
   "execution_count": 39,
   "id": "oriental-horror",
   "metadata": {},
   "outputs": [
    {
     "name": "stdout",
     "output_type": "stream",
     "text": [
      "{'apple'}\n"
     ]
    }
   ],
   "source": [
    "#Keep only the duplicates intersection_update\n",
    "x ={'apple' , 'orange' , 'cherry'}\n",
    "y = {'apple' , 'banana'}\n",
    "x.intersection_update(y)\n",
    "print(x)"
   ]
  },
  {
   "cell_type": "code",
   "execution_count": 38,
   "id": "controversial-police",
   "metadata": {},
   "outputs": [
    {
     "name": "stdout",
     "output_type": "stream",
     "text": [
      "{'apple'}\n"
     ]
    }
   ],
   "source": [
    "#intersection method\n",
    "z =x.intersection(y)\n",
    "print(z)"
   ]
  },
  {
   "cell_type": "code",
   "execution_count": 43,
   "id": "dominican-writing",
   "metadata": {},
   "outputs": [
    {
     "name": "stdout",
     "output_type": "stream",
     "text": [
      "{'zxc', 'def', 'lmn', 'ghi'}\n"
     ]
    }
   ],
   "source": [
    "#Items present in both the set (symmetric difference)\n",
    "a = {'abc' , \"def\" , 'ghi'}\n",
    "b = {'abc' , 'zxc' , 'lmn'}\n",
    "a.symmetric_difference_update(b)\n",
    "print(a)"
   ]
  },
  {
   "cell_type": "code",
   "execution_count": 44,
   "id": "crude-seventh",
   "metadata": {},
   "outputs": [
    {
     "name": "stdout",
     "output_type": "stream",
     "text": [
      "{'ford', 'bike'}\n"
     ]
    }
   ],
   "source": [
    "#symmetric difference method\n",
    "w = {'car' , 'bike' , 'ford'}\n",
    "e = {'car'}\n",
    "v = w.symmetric_difference(e)\n",
    "print(v)"
   ]
  },
  {
   "cell_type": "code",
   "execution_count": 47,
   "id": "hollywood-travel",
   "metadata": {},
   "outputs": [
    {
     "name": "stdout",
     "output_type": "stream",
     "text": [
      "('sd', 'cdf')\n"
     ]
    }
   ],
   "source": [
    "#Range of negative values (tuples)\n",
    "set = ('orange' , 11 , 1.0 , 'sd' , 'cdf' , 'sf')\n",
    "print(set[-3:-1])"
   ]
  },
  {
   "cell_type": "code",
   "execution_count": 58,
   "id": "equivalent-mount",
   "metadata": {},
   "outputs": [
    {
     "name": "stdout",
     "output_type": "stream",
     "text": [
      "I Am Ironman\n"
     ]
    }
   ],
   "source": [
    "#Finding an item present in the list\n",
    "thistuple = (\"Ironman\", \"banana\", \"cherry\")\n",
    "if \"Ironman\" in thistuple:\n",
    "  print(\"I Am Ironman\")"
   ]
  },
  {
   "cell_type": "code",
   "execution_count": 59,
   "id": "lucky-brooks",
   "metadata": {},
   "outputs": [
    {
     "name": "stdout",
     "output_type": "stream",
     "text": [
      "('aq', 'kiwi', 'orange')\n"
     ]
    }
   ],
   "source": [
    "#Convert tuple into list\n",
    "tuple1 = ('aq' , 'ant' , 'orange')\n",
    "y = list(tuple1)\n",
    "y[1] = 'kiwi'\n",
    "tuple1 = tuple(y)\n",
    "print(tuple1)"
   ]
  },
  {
   "cell_type": "code",
   "execution_count": 63,
   "id": "american-tobago",
   "metadata": {},
   "outputs": [
    {
     "name": "stdout",
     "output_type": "stream",
     "text": [
      "apple\n",
      "banana\n",
      "cherry\n"
     ]
    }
   ],
   "source": [
    "#\n",
    "fruits = (\"apple\", \"banana\", \"cherry\")\n",
    "\n",
    "(green, yellow, red) = fruits\n",
    "\n",
    "print(green)\n",
    "print(yellow)\n",
    "print(red)"
   ]
  },
  {
   "cell_type": "code",
   "execution_count": null,
   "id": "affiliated-handling",
   "metadata": {},
   "outputs": [],
   "source": []
  }
 ],
 "metadata": {
  "kernelspec": {
   "display_name": "Python 3",
   "language": "python",
   "name": "python3"
  },
  "language_info": {
   "codemirror_mode": {
    "name": "ipython",
    "version": 3
   },
   "file_extension": ".py",
   "mimetype": "text/x-python",
   "name": "python",
   "nbconvert_exporter": "python",
   "pygments_lexer": "ipython3",
   "version": "3.9.2"
  }
 },
 "nbformat": 4,
 "nbformat_minor": 5
}
