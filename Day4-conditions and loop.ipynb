{
 "cells": [
  {
   "cell_type": "code",
   "execution_count": 1,
   "id": "generous-grace",
   "metadata": {},
   "outputs": [
    {
     "name": "stdout",
     "output_type": "stream",
     "text": [
      "a is smaller than b\n"
     ]
    }
   ],
   "source": [
    "#Python condition and if statement\n",
    "#if statement\n",
    "\n",
    "a = 300\n",
    "b = 330\n",
    "if a < b:\n",
    "    print('a is smaller than b')"
   ]
  },
  {
   "cell_type": "code",
   "execution_count": 3,
   "id": "following-shield",
   "metadata": {},
   "outputs": [
    {
     "name": "stdout",
     "output_type": "stream",
     "text": [
      "a and b are equal\n"
     ]
    }
   ],
   "source": [
    "#elif\n",
    "#if previous condition is not true then try elif\n",
    "a = 20\n",
    "b = 20\n",
    "if a > b:\n",
    "    print('a is less than b')\n",
    "elif a == b:\n",
    "        print('a and b are equal')"
   ]
  },
  {
   "cell_type": "code",
   "execution_count": 4,
   "id": "israeli-relative",
   "metadata": {},
   "outputs": [
    {
     "name": "stdout",
     "output_type": "stream",
     "text": [
      "a is greater than b\n"
     ]
    }
   ],
   "source": [
    "#else\n",
    "#the else condition catches anything which is not caught by preceding condition\n",
    "\n",
    "a = 220\n",
    "b = 30\n",
    "if a < b:\n",
    "    print('a is less than b')\n",
    "elif a == b:\n",
    "    print('a is equal to b')\n",
    "else:\n",
    "    print('a is greater than b')"
   ]
  },
  {
   "cell_type": "code",
   "execution_count": 5,
   "id": "bacterial-hamburg",
   "metadata": {},
   "outputs": [
    {
     "name": "stdout",
     "output_type": "stream",
     "text": [
      "b is greater than a\n"
     ]
    }
   ],
   "source": [
    "#using else without elif\n",
    "\n",
    "a = 50\n",
    "b = 60\n",
    "if a == b:\n",
    "    print('a is equal to b')\n",
    "else:\n",
    "    print('b is greater than a')"
   ]
  },
  {
   "cell_type": "code",
   "execution_count": 7,
   "id": "ahead-process",
   "metadata": {},
   "outputs": [
    {
     "name": "stdout",
     "output_type": "stream",
     "text": [
      "a is greater than b\n"
     ]
    }
   ],
   "source": [
    "#Shorthand if\n",
    "a = 330\n",
    "b = 200\n",
    "if a > b: print('a is greater than b')"
   ]
  },
  {
   "cell_type": "code",
   "execution_count": 11,
   "id": "transparent-immigration",
   "metadata": {},
   "outputs": [
    {
     "name": "stdout",
     "output_type": "stream",
     "text": [
      "equal\n"
     ]
    }
   ],
   "source": [
    "a = 10\n",
    "b = 10\n",
    "print('a is greater than b') if a > b else print('equal')"
   ]
  },
  {
   "cell_type": "code",
   "execution_count": 13,
   "id": "persistent-personality",
   "metadata": {},
   "outputs": [
    {
     "name": "stdout",
     "output_type": "stream",
     "text": [
      "c is greater\n"
     ]
    }
   ],
   "source": [
    "#logical operator which is used to combine the conditional statement(AND)\n",
    "\n",
    "a=40\n",
    "b=30\n",
    "c=40\n",
    "if a>b and c>b:\n",
    "    print('c is greater')\n"
   ]
  },
  {
   "cell_type": "code",
   "execution_count": 26,
   "id": "motivated-arctic",
   "metadata": {},
   "outputs": [],
   "source": [
    "import pyttsx3\n",
    "engine = pyttsx3.init()\n",
    "engine.say(\"Im Ironman\")\n",
    "engine.runAndWait()"
   ]
  },
  {
   "cell_type": "code",
   "execution_count": 14,
   "id": "temporal-quick",
   "metadata": {},
   "outputs": [
    {
     "name": "stdout",
     "output_type": "stream",
     "text": [
      "c is greater and fully satisfied\n"
     ]
    }
   ],
   "source": [
    "a=200\n",
    "b=400\n",
    "c=500\n",
    "if a>b or c>a:\n",
    "    print('c is greater and fully satisfied')"
   ]
  },
  {
   "cell_type": "code",
   "execution_count": 91,
   "id": "cleared-thanks",
   "metadata": {},
   "outputs": [
    {
     "name": "stdout",
     "output_type": "stream",
     "text": [
      "enter hello : hello\n"
     ]
    }
   ],
   "source": [
    "import pyttsx3\n",
    "engine=pyttsx3.init()\n",
    "prompt1=input('enter hello : ')\n",
    "if prompt1=='hello':\n",
    "    engine.say('hello today is thursday')\n",
    "    engine.runAndWait()"
   ]
  },
  {
   "cell_type": "code",
   "execution_count": null,
   "id": "upper-awareness",
   "metadata": {},
   "outputs": [],
   "source": [
    "#Nested IF \n",
    "x=32\n",
    "if x>40:\n",
    "    print(\"Its greater than 40,\")\n",
    "    if x<40:\n",
    "        print(\"its less than 40!\")\n",
    "    else:\n",
    "        print(\"but not above 20.\")\n",
    "else:\n",
    "    print('first condition is not satisfied')"
   ]
  },
  {
   "cell_type": "code",
   "execution_count": 92,
   "id": "specialized-morris",
   "metadata": {},
   "outputs": [
    {
     "name": "stdout",
     "output_type": "stream",
     "text": [
      "1\n",
      "2\n",
      "3\n",
      "4\n",
      "5\n"
     ]
    }
   ],
   "source": [
    "#While loop\n",
    "i=1\n",
    "while i<6:\n",
    "    print(i)\n",
    "    i+=1"
   ]
  },
  {
   "cell_type": "code",
   "execution_count": 93,
   "id": "acknowledged-motorcycle",
   "metadata": {},
   "outputs": [
    {
     "name": "stdout",
     "output_type": "stream",
     "text": [
      "0\n",
      "1\n",
      "2\n",
      "3\n"
     ]
    }
   ],
   "source": [
    "#while loop with break statement\n",
    "i=0\n",
    "while i<7:\n",
    "    print(i)\n",
    "    if i==3:\n",
    "        break\n",
    "    i+=1"
   ]
  },
  {
   "cell_type": "code",
   "execution_count": 68,
   "id": "stable-vision",
   "metadata": {},
   "outputs": [
    {
     "name": "stdout",
     "output_type": "stream",
     "text": [
      "1\n",
      "2\n",
      "4\n",
      "5\n",
      "6\n"
     ]
    }
   ],
   "source": [
    "i = 0\n",
    "while i < 6:\n",
    "  i += 1\n",
    "  if i == 3:\n",
    "    continue\n",
    "  print(i)"
   ]
  },
  {
   "cell_type": "code",
   "execution_count": 95,
   "id": "measured-desperate",
   "metadata": {},
   "outputs": [
    {
     "name": "stdout",
     "output_type": "stream",
     "text": [
      "1\n",
      "2\n",
      "4\n",
      "5\n",
      "6\n"
     ]
    }
   ],
   "source": [
    "#While condition using continue\n",
    "i = 0\n",
    "while i < 6:\n",
    "    i += 1\n",
    "    if i == 3:\n",
    "        continue\n",
    "    print(i)"
   ]
  },
  {
   "cell_type": "code",
   "execution_count": 98,
   "id": "cleared-restriction",
   "metadata": {},
   "outputs": [
    {
     "name": "stdout",
     "output_type": "stream",
     "text": [
      "Enter restaurant name : taj\n",
      "Enter dish name : golden flavour oyster\n"
     ]
    }
   ],
   "source": [
    "#if elif else chatbot with pyttsx3 engine.say\n",
    "import pyttsx3\n",
    "engine = pyttsx3.init()\n",
    "restaurant = str(input('Enter restaurant name : ')).lower()\n",
    "dishes = str(input('Enter dish name : ')).lower()\n",
    "if restaurant == 'taj':\n",
    "    if dishes == 'golden flavour oyster':\n",
    "        engine.say('cost is 350 dollar')\n",
    "        engine.runAndWait()\n",
    "    elif dishes == 'ham and cheese sandwich':\n",
    "        engine.say('Cost is 158 dollar')\n",
    "        engine.runAndWait()\n",
    "    elif dishes == 'indian cassata':\n",
    "        engine.say('cost is 50 dollar')\n",
    "        engine.runAndWait()\n",
    "    elif dishes == 'cheese bread toast':\n",
    "        engine.say('cost is 70 dollar')\n",
    "        engine.runAndWait()\n",
    "    else:\n",
    "        engine.say('its not available')\n",
    "        engine.runAndWait()\n",
    "elif restaurant == 'Oberoi':\n",
    "    if dishes == 'boiled egg mix':\n",
    "        engine.say('cost is 30 dollar')\n",
    "        engine.runAndWait()\n",
    "    elif dishes == 'barbeque mix':\n",
    "        engine.say('cost is 178 dollar')\n",
    "        engine.runAndWait()\n",
    "    elif dishes == 'Indian mix with potatoe':\n",
    "        engine.say('cost is 100 dollar')\n",
    "        engine.runAndWait()\n",
    "    elif dishes == 'cherry cheese and pineapple':\n",
    "        engine.say('cost is 78 dollar')\n",
    "        engine.runAndWait()\n",
    "    else:\n",
    "        engine.say('that dish is not available')\n",
    "        engine.runAndWait()\n",
    "else:\n",
    "    engine.say('we only produce rich and good food')"
   ]
  },
  {
   "cell_type": "code",
   "execution_count": 97,
   "id": "african-network",
   "metadata": {},
   "outputs": [
    {
     "name": "stdout",
     "output_type": "stream",
     "text": [
      "Enter Continent name : asia\n",
      "Enter the Asian Country name : india\n"
     ]
    }
   ],
   "source": [
    "def indian_hotels(user_country, asian_list):\n",
    "    if restaurant in hotel_list:\n",
    "        if restuarant == \"taj\":\n",
    "            engine.say(\"indain top hotels\")\n",
    "            engine.runAndWait()\n",
    "        elif restuarant == \"oberoi\":\n",
    "            engine.say(\"indian second top hotel\")\n",
    "            engine.runAndWait()\n",
    "        elif restuarant == \"Surya\":\n",
    "            engine.say(\"Hotel in lasvegas\")\n",
    "            engine.runAndWait()\n",
    "    else:\n",
    "        engine.say(\"this hotel is not in india\")\n",
    "        engine.runAndWait()\n",
    "        \n",
    "def middle_east_hotels(*args):\n",
    "    if restuarant in hotel_list1:\n",
    "        if restuarant == \"masterchef\":\n",
    "            engine.say(\"its in australia\")\n",
    "            engine.runAndWait()\n",
    "        elif restuarant == \"seasons\":\n",
    "            engine.say(\"hotels in canada\")\n",
    "            engine.runAndWait()\n",
    "        elif user_country == \"pink\":\n",
    "            engine.say(\"hotel in middleeast\")\n",
    "            engine.runAndWait()\n",
    "    else :\n",
    "        engine.say(\"no hotels\")\n",
    "        engine.runAndWait()\n",
    "def pacific_hotels(*args):\n",
    "    if user_country in american_list:\n",
    "        if user_country == \"the us\":\n",
    "            engine.say(\"Capita of the United States is Washington D.C.\")\n",
    "            engine.runAndWait()\n",
    "        elif user_country == \"canada\":\n",
    "            engine.say(\"Capital of Canada is Ottawa\")\n",
    "            engine.runAndWait()\n",
    "        elif user_country == \"mexico\":\n",
    "            engine.say(\"Capital of mexico is mexico city\")\n",
    "            engine.runAndWait()\n",
    "    else :\n",
    "        engine.say(\"This country is not present in American Continent\")\n",
    "        engine.runAndWait()\n",
    "import pyttsx3\n",
    "engine = pyttsx3.init()\n",
    "newVoiceRate = 150\n",
    "engine.setProperty('rate',newVoiceRate)\n",
    "\n",
    "user_continent = str(input(\"Enter Continent name : \")).lower()\n",
    "\n",
    "asian_list = [\"india\", \"nepal\", \"australia\"]\n",
    "europe_list = ['ireland', 'the uk', 'spain']\n",
    "american_list = ['the us', 'canada', 'mexico']\n",
    "\n",
    "if user_continent == \"asia\":\n",
    "    user_country = str(input(\"Enter the Asian Country name : \")).lower()\n",
    "    indian_hotels(user_country, asian_list)\n",
    "    \n",
    "elif user_continent == 'america':\n",
    "    user_country = str(input(\"Enter the American Country name : \")).lower()\n",
    "    middle_east_hotels()\n",
    "elif user_continent == 'europe':\n",
    "    user_country = str(input(\"Enter the European Country name : \")).lower()\n",
    "    european_continent()\n",
    "else:\n",
    "    engine.say(\"This continent present on Parallel universe, please go there\")\n",
    "    engine.runAndWait()"
   ]
  },
  {
   "cell_type": "code",
   "execution_count": 99,
   "id": "charitable-palmer",
   "metadata": {},
   "outputs": [
    {
     "name": "stdout",
     "output_type": "stream",
     "text": [
      "1\n",
      "2\n",
      "3\n",
      "4\n",
      "5\n",
      "i is no longer than 6\n"
     ]
    }
   ],
   "source": [
    "#prints a message once condition is false\n",
    "i = 1\n",
    "while i < 6:\n",
    "    print(i)\n",
    "    i += 1\n",
    "else:\n",
    "    print('i is no longer than 6')"
   ]
  },
  {
   "cell_type": "code",
   "execution_count": 100,
   "id": "known-bobby",
   "metadata": {},
   "outputs": [
    {
     "name": "stdout",
     "output_type": "stream",
     "text": [
      "apple\n",
      "mango\n",
      "orange\n"
     ]
    }
   ],
   "source": [
    "#for loop is used to iterate over sequence\n",
    "fruits = ['apple' , 'mango' , 'orange']\n",
    "for x in fruits:\n",
    "    print(x)"
   ]
  },
  {
   "cell_type": "code",
   "execution_count": 105,
   "id": "fatal-analyst",
   "metadata": {},
   "outputs": [
    {
     "name": "stdout",
     "output_type": "stream",
     "text": [
      "x\n",
      "x\n",
      "x\n",
      "x\n",
      "x\n",
      "x\n"
     ]
    }
   ],
   "source": [
    "#loop through a string,Every string are iterable objects,loop through the letters in banana\n",
    "for x in 'banana':\n",
    "    print('x')"
   ]
  },
  {
   "cell_type": "code",
   "execution_count": 109,
   "id": "studied-gregory",
   "metadata": {},
   "outputs": [
    {
     "name": "stdout",
     "output_type": "stream",
     "text": [
      "apple\n",
      "banana\n"
     ]
    }
   ],
   "source": [
    "fruits = ['apple' , 'banana' ,'cherry']\n",
    "for x in fruits:\n",
    "    print(x)\n",
    "    if x == \"banana\":\n",
    "        break"
   ]
  },
  {
   "cell_type": "code",
   "execution_count": 118,
   "id": "nearby-difference",
   "metadata": {},
   "outputs": [
    {
     "name": "stdout",
     "output_type": "stream",
     "text": [
      "apple\n",
      "cherry\n"
     ]
    }
   ],
   "source": [
    "#continue statement in for loop\n",
    "fruits = [\"apple\", \"banana\", \"cherry\"]\n",
    "for x in fruits:\n",
    "  if x == \"banana\":\n",
    "    continue\n",
    "  print(x)"
   ]
  },
  {
   "cell_type": "code",
   "execution_count": 123,
   "id": "egyptian-lottery",
   "metadata": {},
   "outputs": [
    {
     "name": "stdout",
     "output_type": "stream",
     "text": [
      "0\n",
      "1\n",
      "2\n",
      "3\n",
      "4\n",
      "5\n",
      "bye\n"
     ]
    }
   ],
   "source": [
    "#for loop with range\n",
    "for x in range(6):\n",
    "    print(x)\n",
    "else:\n",
    "    print('bye')"
   ]
  },
  {
   "cell_type": "code",
   "execution_count": 126,
   "id": "incredible-audit",
   "metadata": {},
   "outputs": [
    {
     "name": "stdout",
     "output_type": "stream",
     "text": [
      "1\n",
      "4\n",
      "7\n",
      "10\n",
      "13\n",
      "16\n",
      "19\n"
     ]
    }
   ],
   "source": [
    "#increment the sequence with default\n",
    "for x in range(1, 20, 3):\n",
    "    print(x)"
   ]
  },
  {
   "cell_type": "code",
   "execution_count": 130,
   "id": "funny-cooper",
   "metadata": {},
   "outputs": [
    {
     "name": "stdout",
     "output_type": "stream",
     "text": [
      "0\n",
      "1\n",
      "2\n"
     ]
    }
   ],
   "source": [
    "for x in range(5):\n",
    "    if x == 3: break\n",
    "    print(x)\n",
    "else:\n",
    "    print('its finished')"
   ]
  },
  {
   "cell_type": "code",
   "execution_count": null,
   "id": "center-stopping",
   "metadata": {},
   "outputs": [],
   "source": []
  }
 ],
 "metadata": {
  "kernelspec": {
   "display_name": "Python 3",
   "language": "python",
   "name": "python3"
  },
  "language_info": {
   "codemirror_mode": {
    "name": "ipython",
    "version": 3
   },
   "file_extension": ".py",
   "mimetype": "text/x-python",
   "name": "python",
   "nbconvert_exporter": "python",
   "pygments_lexer": "ipython3",
   "version": "3.9.2"
  }
 },
 "nbformat": 4,
 "nbformat_minor": 5
}
